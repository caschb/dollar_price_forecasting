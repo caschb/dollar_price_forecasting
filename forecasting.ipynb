{
 "cells": [
  {
   "cell_type": "code",
   "execution_count": 2,
   "metadata": {},
   "outputs": [],
   "source": [
    "import pandas as pd\n",
    "import tensorflow as tf\n",
    "import datetime\n"
   ]
  },
  {
   "cell_type": "code",
   "execution_count": 21,
   "metadata": {},
   "outputs": [
    {
     "name": "stdout",
     "output_type": "stream",
     "text": [
      "(9942, 1)\n",
      "(9942, 5)\n"
     ]
    }
   ],
   "source": [
    "dataset = pd.read_csv('./full_dataset.csv')\n",
    "feature_names = ['date', 'price_eurusd', 'change_eurusd', 'price_sp500', 'change_sp500']\n",
    "\n",
    "\n",
    "y = dataset['bid'].to_numpy().reshape((-1, 1))\n",
    "x = dataset[feature_names].to_numpy()\n",
    "# dataset['bid'].values\n",
    "print(y.shape)\n",
    "print(x.shape)"
   ]
  },
  {
   "cell_type": "code",
   "execution_count": 3,
   "metadata": {},
   "outputs": [],
   "source": [
    "input_shape = x.shape\n",
    "model = tf.keras.Sequential(\n",
    "    [\n",
    "        tf.keras.layers.LSTM(units = 32, activation='tanh', input_shape=input_shape),\n",
    "        tf.keras.layers.LSTM(units = 32, activation='tanh', input_shape=(128, 1)),\n",
    "        tf.keras.layers.LSTM(units = 32, activation='tanh', input_shape=(64, 1)),\n",
    "    ]\n",
    ")\n"
   ]
  },
  {
   "cell_type": "markdown",
   "metadata": {},
   "source": []
  },
  {
   "cell_type": "code",
   "execution_count": null,
   "metadata": {},
   "outputs": [],
   "source": []
  }
 ],
 "metadata": {
  "kernelspec": {
   "display_name": "Python 3.10.4 ('lstm')",
   "language": "python",
   "name": "python3"
  },
  "language_info": {
   "codemirror_mode": {
    "name": "ipython",
    "version": 3
   },
   "file_extension": ".py",
   "mimetype": "text/x-python",
   "name": "python",
   "nbconvert_exporter": "python",
   "pygments_lexer": "ipython3",
   "version": "3.10.4"
  },
  "orig_nbformat": 4,
  "vscode": {
   "interpreter": {
    "hash": "694470506770b7c140ade1a4d7534fe5c8d383bbe3191b011d7b9ed3d77669b5"
   }
  }
 },
 "nbformat": 4,
 "nbformat_minor": 2
}
