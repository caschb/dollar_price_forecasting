{
 "cells": [
  {
   "cell_type": "markdown",
   "id": "cdb137fb-d2da-426c-a676-89091347f953",
   "metadata": {},
   "source": [
    "# LSTM Forecasting"
   ]
  },
  {
   "cell_type": "markdown",
   "id": "d5a923c4-e272-44e9-acc0-8a0aa626fdef",
   "metadata": {},
   "source": [
    "## Prepare de data"
   ]
  },
  {
   "cell_type": "markdown",
   "id": "ddc013f4-edb0-40e0-9232-16274beee27f",
   "metadata": {},
   "source": [
    "First, we read the dataset with pandas and explore the nature of the data."
   ]
  },
  {
   "cell_type": "code",
   "execution_count": 5,
   "id": "db3eb6b9-0986-4e41-9b26-9d10732e60b5",
   "metadata": {},
   "outputs": [
    {
     "data": {
      "text/html": [
       "<div>\n",
       "<style scoped>\n",
       "    .dataframe tbody tr th:only-of-type {\n",
       "        vertical-align: middle;\n",
       "    }\n",
       "\n",
       "    .dataframe tbody tr th {\n",
       "        vertical-align: top;\n",
       "    }\n",
       "\n",
       "    .dataframe thead th {\n",
       "        text-align: right;\n",
       "    }\n",
       "</style>\n",
       "<table border=\"1\" class=\"dataframe\">\n",
       "  <thead>\n",
       "    <tr style=\"text-align: right;\">\n",
       "      <th></th>\n",
       "      <th>date</th>\n",
       "      <th>price_eurusd</th>\n",
       "      <th>open_eurusd</th>\n",
       "      <th>high_eurusd</th>\n",
       "      <th>low_eurusd</th>\n",
       "      <th>change_eurusd</th>\n",
       "      <th>bid</th>\n",
       "      <th>ask</th>\n",
       "      <th>price_sp500</th>\n",
       "      <th>open_sp500</th>\n",
       "      <th>high_sp500</th>\n",
       "      <th>low_sp500</th>\n",
       "      <th>change_sp500</th>\n",
       "    </tr>\n",
       "  </thead>\n",
       "  <tbody>\n",
       "    <tr>\n",
       "      <th>9937</th>\n",
       "      <td>6/27/2022</td>\n",
       "      <td>1.06</td>\n",
       "      <td>1.06</td>\n",
       "      <td>1.06</td>\n",
       "      <td>1.05</td>\n",
       "      <td>0.26</td>\n",
       "      <td>695.55</td>\n",
       "      <td>689.88</td>\n",
       "      <td>3900.11</td>\n",
       "      <td>3920.76</td>\n",
       "      <td>3927.72</td>\n",
       "      <td>3889.66</td>\n",
       "      <td>-0.30</td>\n",
       "    </tr>\n",
       "    <tr>\n",
       "      <th>9938</th>\n",
       "      <td>6/28/2022</td>\n",
       "      <td>1.05</td>\n",
       "      <td>1.06</td>\n",
       "      <td>1.06</td>\n",
       "      <td>1.05</td>\n",
       "      <td>-0.61</td>\n",
       "      <td>693.59</td>\n",
       "      <td>685.75</td>\n",
       "      <td>3821.55</td>\n",
       "      <td>3913.00</td>\n",
       "      <td>3945.86</td>\n",
       "      <td>3820.14</td>\n",
       "      <td>-2.01</td>\n",
       "    </tr>\n",
       "    <tr>\n",
       "      <th>9939</th>\n",
       "      <td>6/29/2022</td>\n",
       "      <td>1.04</td>\n",
       "      <td>1.05</td>\n",
       "      <td>1.05</td>\n",
       "      <td>1.04</td>\n",
       "      <td>-0.75</td>\n",
       "      <td>692.96</td>\n",
       "      <td>686.23</td>\n",
       "      <td>3818.83</td>\n",
       "      <td>3825.09</td>\n",
       "      <td>3836.50</td>\n",
       "      <td>3799.02</td>\n",
       "      <td>-0.07</td>\n",
       "    </tr>\n",
       "    <tr>\n",
       "      <th>9940</th>\n",
       "      <td>6/30/2022</td>\n",
       "      <td>1.05</td>\n",
       "      <td>1.04</td>\n",
       "      <td>1.05</td>\n",
       "      <td>1.04</td>\n",
       "      <td>0.41</td>\n",
       "      <td>692.25</td>\n",
       "      <td>684.76</td>\n",
       "      <td>3785.38</td>\n",
       "      <td>3785.99</td>\n",
       "      <td>3818.99</td>\n",
       "      <td>3738.67</td>\n",
       "      <td>-0.88</td>\n",
       "    </tr>\n",
       "    <tr>\n",
       "      <th>9941</th>\n",
       "      <td>7/1/2022</td>\n",
       "      <td>1.04</td>\n",
       "      <td>1.05</td>\n",
       "      <td>1.05</td>\n",
       "      <td>1.04</td>\n",
       "      <td>-0.52</td>\n",
       "      <td>693.69</td>\n",
       "      <td>685.26</td>\n",
       "      <td>3825.33</td>\n",
       "      <td>3781.00</td>\n",
       "      <td>3829.82</td>\n",
       "      <td>3752.10</td>\n",
       "      <td>1.06</td>\n",
       "    </tr>\n",
       "  </tbody>\n",
       "</table>\n",
       "</div>"
      ],
      "text/plain": [
       "           date  price_eurusd  open_eurusd  high_eurusd  low_eurusd  \\\n",
       "9937  6/27/2022          1.06         1.06         1.06        1.05   \n",
       "9938  6/28/2022          1.05         1.06         1.06        1.05   \n",
       "9939  6/29/2022          1.04         1.05         1.05        1.04   \n",
       "9940  6/30/2022          1.05         1.04         1.05        1.04   \n",
       "9941   7/1/2022          1.04         1.05         1.05        1.04   \n",
       "\n",
       "      change_eurusd     bid     ask  price_sp500  open_sp500  high_sp500  \\\n",
       "9937           0.26  695.55  689.88      3900.11     3920.76     3927.72   \n",
       "9938          -0.61  693.59  685.75      3821.55     3913.00     3945.86   \n",
       "9939          -0.75  692.96  686.23      3818.83     3825.09     3836.50   \n",
       "9940           0.41  692.25  684.76      3785.38     3785.99     3818.99   \n",
       "9941          -0.52  693.69  685.26      3825.33     3781.00     3829.82   \n",
       "\n",
       "      low_sp500  change_sp500  \n",
       "9937    3889.66         -0.30  \n",
       "9938    3820.14         -2.01  \n",
       "9939    3799.02         -0.07  \n",
       "9940    3738.67         -0.88  \n",
       "9941    3752.10          1.06  "
      ]
     },
     "execution_count": 5,
     "metadata": {},
     "output_type": "execute_result"
    }
   ],
   "source": [
    "import pandas as pd\n",
    "dataset = pd.read_csv('full_dataset.csv')\n",
    "dataset.tail()"
   ]
  },
  {
   "cell_type": "markdown",
   "id": "228ea601-b2f4-4855-9f5e-aa0a3dc8ac99",
   "metadata": {},
   "source": [
    "We have to define which columns will be used to predict. In this particular case, we use `price_eurusd` and `price_sp500` as inputs and `bid` as the target. We use `.values` to get the numpy array."
   ]
  },
  {
   "cell_type": "code",
   "execution_count": 6,
   "id": "4207948b-85e5-4075-9a23-8953b018f986",
   "metadata": {},
   "outputs": [
    {
     "name": "stdout",
     "output_type": "stream",
     "text": [
      "(9942,) (9942,) (9942,)\n",
      "[0.98 0.99 0.99 ... 1.04 1.05 1.04]\n"
     ]
    }
   ],
   "source": [
    "import numpy as np\n",
    "\n",
    "in_seq1 = dataset[\"price_eurusd\"].values\n",
    "in_seq2 =  dataset[\"price_sp500\"].values\n",
    "out_seq = dataset[\"bid\"].values\n",
    "\n",
    "print(in_seq1.shape, in_seq2.shape, out_seq.shape)\n",
    "print(in_seq1)"
   ]
  },
  {
   "cell_type": "markdown",
   "id": "1e3b1672-c1cd-4aaf-9f55-d4f3e32d0bbb",
   "metadata": {},
   "source": [
    "We have to transform the arrays in a single array. For that, first we reshape the arrays to have matrixes with one column."
   ]
  },
  {
   "cell_type": "code",
   "execution_count": 7,
   "id": "94415171-596f-429e-93eb-03867f841928",
   "metadata": {},
   "outputs": [
    {
     "name": "stdout",
     "output_type": "stream",
     "text": [
      "(9942, 1) (9942, 1) (9942, 1)\n",
      "[[0.98]\n",
      " [0.99]\n",
      " [0.99]\n",
      " ...\n",
      " [1.04]\n",
      " [1.05]\n",
      " [1.04]]\n"
     ]
    }
   ],
   "source": [
    "in_seq1 = in_seq1.reshape((len(in_seq1), 1))\n",
    "in_seq2 = in_seq2.reshape((len(in_seq2), 1))\n",
    "out_seq = out_seq.reshape((len(out_seq), 1))\n",
    "print(in_seq1.shape, in_seq2.shape, out_seq.shape)\n",
    "print(in_seq1)"
   ]
  },
  {
   "cell_type": "markdown",
   "id": "4b0b4c43-cc1e-4c6d-b5eb-e90aada1ab25",
   "metadata": {},
   "source": [
    "Then, we \"merge\" the matrixes to have a single matrix. Each row is a time step and each column is a separate time series."
   ]
  },
  {
   "cell_type": "code",
   "execution_count": 8,
   "id": "6be084b6-3e02-45ec-ab41-7703fe2c74ec",
   "metadata": {},
   "outputs": [
    {
     "name": "stdout",
     "output_type": "stream",
     "text": [
      "(9942, 3)\n",
      "[[9.80000e-01 1.41300e+02 4.54500e+01]\n",
      " [9.90000e-01 1.42000e+02 4.54500e+01]\n",
      " [9.90000e-01 1.45300e+02 4.54500e+01]\n",
      " ...\n",
      " [1.04000e+00 3.81883e+03 6.92960e+02]\n",
      " [1.05000e+00 3.78538e+03 6.92250e+02]\n",
      " [1.04000e+00 3.82533e+03 6.93690e+02]]\n"
     ]
    }
   ],
   "source": [
    "dataset = np.hstack((in_seq1, in_seq2, out_seq))\n",
    "print(dataset.shape)\n",
    "print(dataset)"
   ]
  },
  {
   "cell_type": "code",
   "execution_count": 9,
   "id": "79509061-cf74-4a17-8f6f-b1289963ad1e",
   "metadata": {},
   "outputs": [],
   "source": [
    "# Split a multivariate sequence into samples\n",
    "def split_sequences(sequences, n_steps):\n",
    "    X, y = list(), list()\n",
    "    for i in range(len(sequences)):\n",
    "        # find the end of this pattern\n",
    "        end_ix = i + n_steps\n",
    "        # check if we are beyond the dataset\n",
    "        if end_ix > len(sequences):\n",
    "            break\n",
    "        # gather input and output parts of the pattern\n",
    "        seq_x, seq_y = sequences[i:end_ix, :-1], sequences[end_ix-1, -1]\n",
    "        X.append(seq_x)\n",
    "        y.append(seq_y)\n",
    "    return np.array(X), np.array(y)"
   ]
  },
  {
   "cell_type": "code",
   "execution_count": 10,
   "id": "8271c2ea-1187-4d49-b483-7414bca816ae",
   "metadata": {},
   "outputs": [
    {
     "name": "stdout",
     "output_type": "stream",
     "text": [
      "(9937, 6, 2)\n"
     ]
    }
   ],
   "source": [
    "# choose a number of time steps\n",
    "n_steps = 6\n",
    "# convert into input/output\n",
    "X, y = split_sequences(dataset, n_steps)\n",
    "print(X.shape)\n",
    "# the dataset knows the number of features, e.g. 2\n",
    "n_features = X.shape[2]"
   ]
  },
  {
   "cell_type": "markdown",
   "id": "d0d06524-3639-40c2-9ccd-ae478d8676f5",
   "metadata": {},
   "source": [
    "## LSTM Model"
   ]
  },
  {
   "cell_type": "code",
   "execution_count": 11,
   "id": "c4183dd6-cd22-4823-9907-fe34ae967ce6",
   "metadata": {},
   "outputs": [],
   "source": [
    "from keras.models import Sequential\n",
    "from keras.layers import LSTM\n",
    "from keras.layers import Dense\n",
    "\n",
    "def build_lstm_model(steps, features):\n",
    "    # define model\n",
    "    model = Sequential()\n",
    "    model.add(LSTM(50, activation='relu', input_shape=(n_steps, n_features)))\n",
    "    model.add(Dense(1))\n",
    "    model.compile(optimizer='adam', loss='mse')\n",
    "    return model"
   ]
  },
  {
   "cell_type": "markdown",
   "id": "c169f5a4-1536-4a2d-a24d-a04a782d8885",
   "metadata": {},
   "source": [
    "Then, we just need to train the model with 200 epochs. It will take some time to finish."
   ]
  },
  {
   "cell_type": "code",
   "execution_count": 12,
   "id": "ba72bc28-09b4-45cd-9e19-46f68eb0cf3a",
   "metadata": {},
   "outputs": [
    {
     "data": {
      "text/plain": [
       "<keras.callbacks.History at 0x281f7da8970>"
      ]
     },
     "execution_count": 12,
     "metadata": {},
     "output_type": "execute_result"
    }
   ],
   "source": [
    "# fit model\n",
    "model = build_lstm_model(n_steps, n_features)\n",
    "model.fit(X, y, epochs=200, verbose=0)"
   ]
  },
  {
   "cell_type": "markdown",
   "id": "7a52cbe4-3498-4e56-8026-e0c4c14568b5",
   "metadata": {},
   "source": [
    "## Prediction"
   ]
  },
  {
   "cell_type": "code",
   "execution_count": 13,
   "id": "2eaf56cb-8d42-4ead-8366-106742fa5269",
   "metadata": {},
   "outputs": [
    {
     "name": "stdout",
     "output_type": "stream",
     "text": [
      "[[569.56226]]\n"
     ]
    }
   ],
   "source": [
    "x_input = np.array([[1.06, 3911.74], [1.06, 3900.11], [1.05, 3821.55], [1.04, 3818.83], [1.05, 3785.38], [1.04, 3825.33]])\n",
    "x_input = x_input.reshape((1, n_steps, n_features))\n",
    "yhat = model.predict(x_input, verbose=0)\n",
    "print(yhat)"
   ]
  },
  {
   "cell_type": "code",
   "execution_count": null,
   "id": "53239e98-1d87-4f73-aa52-2cbd49cc5145",
   "metadata": {},
   "outputs": [],
   "source": []
  }
 ],
 "metadata": {
  "kernelspec": {
   "display_name": "Python 3 (ipykernel)",
   "language": "python",
   "name": "python3"
  },
  "language_info": {
   "codemirror_mode": {
    "name": "ipython",
    "version": 3
   },
   "file_extension": ".py",
   "mimetype": "text/x-python",
   "name": "python",
   "nbconvert_exporter": "python",
   "pygments_lexer": "ipython3",
   "version": "3.9.7"
  }
 },
 "nbformat": 4,
 "nbformat_minor": 5
}
