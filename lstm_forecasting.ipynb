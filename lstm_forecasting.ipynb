{
 "cells": [
  {
   "cell_type": "markdown",
   "id": "cdb137fb-d2da-426c-a676-89091347f953",
   "metadata": {},
   "source": [
    "# LSTM Forecasting"
   ]
  },
  {
   "cell_type": "markdown",
   "id": "d5a923c4-e272-44e9-acc0-8a0aa626fdef",
   "metadata": {},
   "source": [
    "## Prepare de data"
   ]
  },
  {
   "cell_type": "markdown",
   "id": "ddc013f4-edb0-40e0-9232-16274beee27f",
   "metadata": {},
   "source": [
    "First, we read the dataset with pandas and explore the nature of the data."
   ]
  },
  {
   "cell_type": "code",
   "execution_count": 1,
   "id": "eba3b27f-b5cb-47a7-9270-f0397fc7b7b5",
   "metadata": {},
   "outputs": [
    {
     "name": "stdout",
     "output_type": "stream",
     "text": [
      "(9942, 13)\n"
     ]
    },
    {
     "data": {
      "text/html": [
       "<div>\n",
       "<style scoped>\n",
       "    .dataframe tbody tr th:only-of-type {\n",
       "        vertical-align: middle;\n",
       "    }\n",
       "\n",
       "    .dataframe tbody tr th {\n",
       "        vertical-align: top;\n",
       "    }\n",
       "\n",
       "    .dataframe thead th {\n",
       "        text-align: right;\n",
       "    }\n",
       "</style>\n",
       "<table border=\"1\" class=\"dataframe\">\n",
       "  <thead>\n",
       "    <tr style=\"text-align: right;\">\n",
       "      <th></th>\n",
       "      <th>date</th>\n",
       "      <th>price_eurusd</th>\n",
       "      <th>open_eurusd</th>\n",
       "      <th>high_eurusd</th>\n",
       "      <th>low_eurusd</th>\n",
       "      <th>change_eurusd</th>\n",
       "      <th>bid</th>\n",
       "      <th>ask</th>\n",
       "      <th>price_sp500</th>\n",
       "      <th>open_sp500</th>\n",
       "      <th>high_sp500</th>\n",
       "      <th>low_sp500</th>\n",
       "      <th>change_sp500</th>\n",
       "    </tr>\n",
       "  </thead>\n",
       "  <tbody>\n",
       "    <tr>\n",
       "      <th>9937</th>\n",
       "      <td>6/27/2022</td>\n",
       "      <td>1.06</td>\n",
       "      <td>1.06</td>\n",
       "      <td>1.06</td>\n",
       "      <td>1.05</td>\n",
       "      <td>0.26</td>\n",
       "      <td>695.55</td>\n",
       "      <td>689.88</td>\n",
       "      <td>3900.11</td>\n",
       "      <td>3920.76</td>\n",
       "      <td>3927.72</td>\n",
       "      <td>3889.66</td>\n",
       "      <td>-0.30</td>\n",
       "    </tr>\n",
       "    <tr>\n",
       "      <th>9938</th>\n",
       "      <td>6/28/2022</td>\n",
       "      <td>1.05</td>\n",
       "      <td>1.06</td>\n",
       "      <td>1.06</td>\n",
       "      <td>1.05</td>\n",
       "      <td>-0.61</td>\n",
       "      <td>693.59</td>\n",
       "      <td>685.75</td>\n",
       "      <td>3821.55</td>\n",
       "      <td>3913.00</td>\n",
       "      <td>3945.86</td>\n",
       "      <td>3820.14</td>\n",
       "      <td>-2.01</td>\n",
       "    </tr>\n",
       "    <tr>\n",
       "      <th>9939</th>\n",
       "      <td>6/29/2022</td>\n",
       "      <td>1.04</td>\n",
       "      <td>1.05</td>\n",
       "      <td>1.05</td>\n",
       "      <td>1.04</td>\n",
       "      <td>-0.75</td>\n",
       "      <td>692.96</td>\n",
       "      <td>686.23</td>\n",
       "      <td>3818.83</td>\n",
       "      <td>3825.09</td>\n",
       "      <td>3836.50</td>\n",
       "      <td>3799.02</td>\n",
       "      <td>-0.07</td>\n",
       "    </tr>\n",
       "    <tr>\n",
       "      <th>9940</th>\n",
       "      <td>6/30/2022</td>\n",
       "      <td>1.05</td>\n",
       "      <td>1.04</td>\n",
       "      <td>1.05</td>\n",
       "      <td>1.04</td>\n",
       "      <td>0.41</td>\n",
       "      <td>692.25</td>\n",
       "      <td>684.76</td>\n",
       "      <td>3785.38</td>\n",
       "      <td>3785.99</td>\n",
       "      <td>3818.99</td>\n",
       "      <td>3738.67</td>\n",
       "      <td>-0.88</td>\n",
       "    </tr>\n",
       "    <tr>\n",
       "      <th>9941</th>\n",
       "      <td>7/1/2022</td>\n",
       "      <td>1.04</td>\n",
       "      <td>1.05</td>\n",
       "      <td>1.05</td>\n",
       "      <td>1.04</td>\n",
       "      <td>-0.52</td>\n",
       "      <td>693.69</td>\n",
       "      <td>685.26</td>\n",
       "      <td>3825.33</td>\n",
       "      <td>3781.00</td>\n",
       "      <td>3829.82</td>\n",
       "      <td>3752.10</td>\n",
       "      <td>1.06</td>\n",
       "    </tr>\n",
       "  </tbody>\n",
       "</table>\n",
       "</div>"
      ],
      "text/plain": [
       "           date  price_eurusd  open_eurusd  high_eurusd  low_eurusd  \\\n",
       "9937  6/27/2022          1.06         1.06         1.06        1.05   \n",
       "9938  6/28/2022          1.05         1.06         1.06        1.05   \n",
       "9939  6/29/2022          1.04         1.05         1.05        1.04   \n",
       "9940  6/30/2022          1.05         1.04         1.05        1.04   \n",
       "9941   7/1/2022          1.04         1.05         1.05        1.04   \n",
       "\n",
       "      change_eurusd     bid     ask  price_sp500  open_sp500  high_sp500  \\\n",
       "9937           0.26  695.55  689.88      3900.11     3920.76     3927.72   \n",
       "9938          -0.61  693.59  685.75      3821.55     3913.00     3945.86   \n",
       "9939          -0.75  692.96  686.23      3818.83     3825.09     3836.50   \n",
       "9940           0.41  692.25  684.76      3785.38     3785.99     3818.99   \n",
       "9941          -0.52  693.69  685.26      3825.33     3781.00     3829.82   \n",
       "\n",
       "      low_sp500  change_sp500  \n",
       "9937    3889.66         -0.30  \n",
       "9938    3820.14         -2.01  \n",
       "9939    3799.02         -0.07  \n",
       "9940    3738.67         -0.88  \n",
       "9941    3752.10          1.06  "
      ]
     },
     "execution_count": 1,
     "metadata": {},
     "output_type": "execute_result"
    }
   ],
   "source": [
    "import pandas as pd\n",
    "original_dataset = pd.read_csv('full_dataset.csv')\n",
    "print(original_dataset.shape)\n",
    "original_dataset.tail()"
   ]
  },
  {
   "cell_type": "markdown",
   "id": "228ea601-b2f4-4855-9f5e-aa0a3dc8ac99",
   "metadata": {},
   "source": [
    "We have to define which columns will be used to predict. In this particular case, we use `price_eurusd` and `price_sp500` as inputs and `bid` as the target. We use `.values` to get the numpy array."
   ]
  },
  {
   "cell_type": "code",
   "execution_count": 2,
   "id": "4207948b-85e5-4075-9a23-8953b018f986",
   "metadata": {},
   "outputs": [
    {
     "name": "stdout",
     "output_type": "stream",
     "text": [
      "(9942,) (9942,) (9942,)\n",
      "[0.98 0.99 0.99 ... 1.04 1.05 1.04]\n"
     ]
    }
   ],
   "source": [
    "import numpy as np\n",
    "\n",
    "in_seq1 = original_dataset[\"price_eurusd\"].values\n",
    "in_seq2 =  original_dataset[\"price_sp500\"].values\n",
    "out_seq = original_dataset[\"bid\"].values\n",
    "\n",
    "print(in_seq1.shape, in_seq2.shape, out_seq.shape)\n",
    "print(in_seq1)"
   ]
  },
  {
   "cell_type": "markdown",
   "id": "1e3b1672-c1cd-4aaf-9f55-d4f3e32d0bbb",
   "metadata": {},
   "source": [
    "We have to transform the arrays in a single array. For that, first we reshape the arrays to have matrixes with one column."
   ]
  },
  {
   "cell_type": "code",
   "execution_count": 3,
   "id": "94415171-596f-429e-93eb-03867f841928",
   "metadata": {},
   "outputs": [
    {
     "name": "stdout",
     "output_type": "stream",
     "text": [
      "(9942, 1) (9942, 1) (9942, 1)\n",
      "[[0.98]\n",
      " [0.99]\n",
      " [0.99]\n",
      " ...\n",
      " [1.04]\n",
      " [1.05]\n",
      " [1.04]]\n"
     ]
    }
   ],
   "source": [
    "in_seq1 = in_seq1.reshape((len(in_seq1), 1))\n",
    "in_seq2 = in_seq2.reshape((len(in_seq2), 1))\n",
    "out_seq = out_seq.reshape((len(out_seq), 1))\n",
    "print(in_seq1.shape, in_seq2.shape, out_seq.shape)\n",
    "print(in_seq1)"
   ]
  },
  {
   "cell_type": "markdown",
   "id": "4b0b4c43-cc1e-4c6d-b5eb-e90aada1ab25",
   "metadata": {},
   "source": [
    "Then, we \"merge\" the matrixes to have a single matrix. Each row is a time step and each column is a separate time series."
   ]
  },
  {
   "cell_type": "code",
   "execution_count": 4,
   "id": "6be084b6-3e02-45ec-ab41-7703fe2c74ec",
   "metadata": {},
   "outputs": [
    {
     "name": "stdout",
     "output_type": "stream",
     "text": [
      "(9942, 3)\n",
      "[[9.80000e-01 1.41300e+02 4.54500e+01]\n",
      " [9.90000e-01 1.42000e+02 4.54500e+01]\n",
      " [9.90000e-01 1.45300e+02 4.54500e+01]\n",
      " ...\n",
      " [1.04000e+00 3.81883e+03 6.92960e+02]\n",
      " [1.05000e+00 3.78538e+03 6.92250e+02]\n",
      " [1.04000e+00 3.82533e+03 6.93690e+02]]\n"
     ]
    }
   ],
   "source": [
    "dataset = np.hstack((in_seq1, in_seq2, out_seq))\n",
    "print(dataset.shape)\n",
    "print(dataset)"
   ]
  },
  {
   "cell_type": "markdown",
   "id": "e86a60dc-1fc4-4d67-8ff0-1c78f4d010c2",
   "metadata": {},
   "source": [
    "The `split_sequences` method iterates through the sequences to split them in `X` and `y` data. The `X` is the input group by n_steps. Note that it has `y` is just an array of the `bid` values."
   ]
  },
  {
   "cell_type": "code",
   "execution_count": 5,
   "id": "79509061-cf74-4a17-8f6f-b1289963ad1e",
   "metadata": {},
   "outputs": [],
   "source": [
    "# Split a multivariate sequence into samples\n",
    "def split_sequences(sequences, n_steps):\n",
    "    X, y = list(), list()\n",
    "    for i in range(len(sequences)):\n",
    "        end_ix = i + n_steps\n",
    "        if end_ix > len(sequences):\n",
    "            break\n",
    "        seq_x, seq_y = sequences[i:end_ix, :-1], sequences[end_ix-1, -1]\n",
    "        X.append(seq_x)\n",
    "        y.append(seq_y)\n",
    "    return np.array(X), np.array(y)"
   ]
  },
  {
   "cell_type": "code",
   "execution_count": 6,
   "id": "8271c2ea-1187-4d49-b483-7414bca816ae",
   "metadata": {},
   "outputs": [
    {
     "name": "stdout",
     "output_type": "stream",
     "text": [
      "(9937, 6, 2)\n",
      "[[[9.80000e-01 1.41300e+02]\n",
      "  [9.90000e-01 1.42000e+02]\n",
      "  [9.90000e-01 1.45300e+02]\n",
      "  [9.90000e-01 1.45200e+02]\n",
      "  [9.90000e-01 1.46800e+02]\n",
      "  [9.90000e-01 1.45800e+02]]\n",
      "\n",
      " [[9.90000e-01 1.42000e+02]\n",
      "  [9.90000e-01 1.45300e+02]\n",
      "  [9.90000e-01 1.45200e+02]\n",
      "  [9.90000e-01 1.46800e+02]\n",
      "  [9.90000e-01 1.45800e+02]\n",
      "  [9.80000e-01 1.46700e+02]]\n",
      "\n",
      " [[9.90000e-01 1.45300e+02]\n",
      "  [9.90000e-01 1.45200e+02]\n",
      "  [9.90000e-01 1.46800e+02]\n",
      "  [9.90000e-01 1.45800e+02]\n",
      "  [9.80000e-01 1.46700e+02]\n",
      "  [9.90000e-01 1.45700e+02]]\n",
      "\n",
      " ...\n",
      "\n",
      " [[1.06000e+00 3.75989e+03]\n",
      "  [1.05000e+00 3.79573e+03]\n",
      "  [1.06000e+00 3.91174e+03]\n",
      "  [1.06000e+00 3.90011e+03]\n",
      "  [1.05000e+00 3.82155e+03]\n",
      "  [1.04000e+00 3.81883e+03]]\n",
      "\n",
      " [[1.05000e+00 3.79573e+03]\n",
      "  [1.06000e+00 3.91174e+03]\n",
      "  [1.06000e+00 3.90011e+03]\n",
      "  [1.05000e+00 3.82155e+03]\n",
      "  [1.04000e+00 3.81883e+03]\n",
      "  [1.05000e+00 3.78538e+03]]\n",
      "\n",
      " [[1.06000e+00 3.91174e+03]\n",
      "  [1.06000e+00 3.90011e+03]\n",
      "  [1.05000e+00 3.82155e+03]\n",
      "  [1.04000e+00 3.81883e+03]\n",
      "  [1.05000e+00 3.78538e+03]\n",
      "  [1.04000e+00 3.82533e+03]]]\n",
      "(9937,)\n",
      "[ 45.4   45.4   45.4  ... 692.96 692.25 693.69]\n"
     ]
    }
   ],
   "source": [
    "# Number of time steps\n",
    "n_steps = 6\n",
    "\n",
    "# Convert into input/output\n",
    "X_train, y_train = split_sequences(dataset, n_steps)\n",
    "print(X_train.shape)\n",
    "print(X_train)\n",
    "print(y_train.shape)\n",
    "print(y_train)\n",
    "\n",
    "# The dataset knows the number of features\n",
    "n_features = X_train.shape[2]"
   ]
  },
  {
   "cell_type": "markdown",
   "id": "d0d06524-3639-40c2-9ccd-ae478d8676f5",
   "metadata": {},
   "source": [
    "## LSTM Model"
   ]
  },
  {
   "cell_type": "markdown",
   "id": "595b0876-1064-482c-aa4f-3fe728507d50",
   "metadata": {},
   "source": [
    "We define a method to build the LSTM model."
   ]
  },
  {
   "cell_type": "code",
   "execution_count": 7,
   "id": "c4183dd6-cd22-4823-9907-fe34ae967ce6",
   "metadata": {},
   "outputs": [
    {
     "name": "stdout",
     "output_type": "stream",
     "text": [
      "Model: \"sequential\"\n",
      "_________________________________________________________________\n",
      " Layer (type)                Output Shape              Param #   \n",
      "=================================================================\n",
      " lstm (LSTM)                 (None, 6, 50)             10600     \n",
      "                                                                 \n",
      " dropout (Dropout)           (None, 6, 50)             0         \n",
      "                                                                 \n",
      " lstm_1 (LSTM)               (None, 6, 50)             20200     \n",
      "                                                                 \n",
      " dropout_1 (Dropout)         (None, 6, 50)             0         \n",
      "                                                                 \n",
      " lstm_2 (LSTM)               (None, 50)                20200     \n",
      "                                                                 \n",
      " dropout_2 (Dropout)         (None, 50)                0         \n",
      "                                                                 \n",
      " dense (Dense)               (None, 1)                 51        \n",
      "                                                                 \n",
      "=================================================================\n",
      "Total params: 51,051\n",
      "Trainable params: 51,051\n",
      "Non-trainable params: 0\n",
      "_________________________________________________________________\n"
     ]
    }
   ],
   "source": [
    "from keras.models import Sequential\n",
    "from keras.layers import Dense, Dropout, LSTM\n",
    "\n",
    "def build_lstm_model(steps, features):\n",
    "    model = Sequential()    \n",
    "    model.add(LSTM(units=50, return_sequences=True, input_shape=(n_steps, n_features)))\n",
    "    model.add(Dropout(0.2))\n",
    "    model.add(LSTM(units=50, return_sequences=True))\n",
    "    model.add(Dropout(0.2))\n",
    "    model.add(LSTM(units=50))\n",
    "    model.add(Dropout(0.2))\n",
    "    model.add(Dense(units=1)) # The prediction is one value.\n",
    "    \n",
    "    model.compile(optimizer='adam', loss='mean_squared_error', metrics=[\"mean_absolute_error\"])\n",
    "    return model\n",
    "\n",
    "model = build_lstm_model(n_steps, n_features)\n",
    "model.summary()"
   ]
  },
  {
   "cell_type": "markdown",
   "id": "c169f5a4-1536-4a2d-a24d-a04a782d8885",
   "metadata": {},
   "source": [
    "Then, we just need to train the model with 130 epochs. It will take some time to finish."
   ]
  },
  {
   "cell_type": "code",
   "execution_count": 8,
   "id": "ba72bc28-09b4-45cd-9e19-46f68eb0cf3a",
   "metadata": {},
   "outputs": [
    {
     "name": "stdout",
     "output_type": "stream",
     "text": [
      "Epoch 1/130\n",
      "311/311 [==============================] - 5s 5ms/step - loss: 150197.0781 - mean_absolute_error: 329.5056\n",
      "Epoch 2/130\n",
      "311/311 [==============================] - 2s 5ms/step - loss: 139165.6719 - mean_absolute_error: 312.3062\n",
      "Epoch 3/130\n",
      "311/311 [==============================] - 2s 5ms/step - loss: 129813.5859 - mean_absolute_error: 297.6263\n",
      "Epoch 4/130\n",
      "311/311 [==============================] - 2s 5ms/step - loss: 121185.4844 - mean_absolute_error: 285.2555\n",
      "Epoch 5/130\n",
      "311/311 [==============================] - 2s 5ms/step - loss: 113170.7031 - mean_absolute_error: 274.4794\n",
      "Epoch 6/130\n",
      "311/311 [==============================] - 2s 5ms/step - loss: 105720.0234 - mean_absolute_error: 265.0324\n",
      "Epoch 7/130\n",
      "311/311 [==============================] - 2s 5ms/step - loss: 98920.5000 - mean_absolute_error: 256.6945\n",
      "Epoch 8/130\n",
      "311/311 [==============================] - 2s 5ms/step - loss: 92651.8359 - mean_absolute_error: 248.6852\n",
      "Epoch 9/130\n",
      "311/311 [==============================] - 2s 5ms/step - loss: 86714.4141 - mean_absolute_error: 241.3433\n",
      "Epoch 10/130\n",
      "311/311 [==============================] - 2s 5ms/step - loss: 80976.0781 - mean_absolute_error: 232.0074\n",
      "Epoch 11/130\n",
      "311/311 [==============================] - 2s 5ms/step - loss: 74058.8359 - mean_absolute_error: 211.2473\n",
      "Epoch 12/130\n",
      "311/311 [==============================] - 2s 5ms/step - loss: 68395.0156 - mean_absolute_error: 201.2411\n",
      "Epoch 13/130\n",
      "311/311 [==============================] - 2s 5ms/step - loss: 63161.3984 - mean_absolute_error: 191.6637\n",
      "Epoch 14/130\n",
      "311/311 [==============================] - 2s 5ms/step - loss: 58334.9023 - mean_absolute_error: 183.0922\n",
      "Epoch 15/130\n",
      "311/311 [==============================] - 2s 5ms/step - loss: 53608.6836 - mean_absolute_error: 174.5000\n",
      "Epoch 16/130\n",
      "311/311 [==============================] - 2s 5ms/step - loss: 49187.0391 - mean_absolute_error: 166.4611\n",
      "Epoch 17/130\n",
      "311/311 [==============================] - 2s 5ms/step - loss: 45203.8867 - mean_absolute_error: 159.2711\n",
      "Epoch 18/130\n",
      "311/311 [==============================] - 2s 5ms/step - loss: 41515.9336 - mean_absolute_error: 153.5288\n",
      "Epoch 19/130\n",
      "311/311 [==============================] - 2s 5ms/step - loss: 37795.4375 - mean_absolute_error: 144.9250\n",
      "Epoch 20/130\n",
      "311/311 [==============================] - 2s 5ms/step - loss: 34669.9844 - mean_absolute_error: 138.7338\n",
      "Epoch 21/130\n",
      "311/311 [==============================] - 2s 5ms/step - loss: 31475.5859 - mean_absolute_error: 132.4377\n",
      "Epoch 22/130\n",
      "311/311 [==============================] - 2s 5ms/step - loss: 28614.2207 - mean_absolute_error: 125.9085\n",
      "Epoch 23/130\n",
      "311/311 [==============================] - 2s 5ms/step - loss: 26009.6035 - mean_absolute_error: 120.3224\n",
      "Epoch 24/130\n",
      "311/311 [==============================] - 2s 5ms/step - loss: 23938.7930 - mean_absolute_error: 116.5105\n",
      "Epoch 25/130\n",
      "311/311 [==============================] - 2s 5ms/step - loss: 21607.1094 - mean_absolute_error: 110.9810\n",
      "Epoch 26/130\n",
      "311/311 [==============================] - 2s 5ms/step - loss: 19583.8789 - mean_absolute_error: 105.5067\n",
      "Epoch 27/130\n",
      "311/311 [==============================] - 2s 5ms/step - loss: 17882.8613 - mean_absolute_error: 101.4161\n",
      "Epoch 28/130\n",
      "311/311 [==============================] - 2s 5ms/step - loss: 16227.4590 - mean_absolute_error: 96.8304\n",
      "Epoch 29/130\n",
      "311/311 [==============================] - 2s 5ms/step - loss: 15091.5215 - mean_absolute_error: 94.2989\n",
      "Epoch 30/130\n",
      "311/311 [==============================] - 2s 5ms/step - loss: 13841.2285 - mean_absolute_error: 90.2499\n",
      "Epoch 31/130\n",
      "311/311 [==============================] - 2s 5ms/step - loss: 13057.0654 - mean_absolute_error: 87.8498\n",
      "Epoch 32/130\n",
      "311/311 [==============================] - 2s 5ms/step - loss: 11963.9414 - mean_absolute_error: 83.7981\n",
      "Epoch 33/130\n",
      "311/311 [==============================] - 2s 5ms/step - loss: 11138.9756 - mean_absolute_error: 80.5163\n",
      "Epoch 34/130\n",
      "311/311 [==============================] - 2s 5ms/step - loss: 10790.6836 - mean_absolute_error: 79.0482\n",
      "Epoch 35/130\n",
      "311/311 [==============================] - 2s 5ms/step - loss: 10076.7305 - mean_absolute_error: 75.8163\n",
      "Epoch 36/130\n",
      "311/311 [==============================] - 2s 5ms/step - loss: 10347.5547 - mean_absolute_error: 76.9504\n",
      "Epoch 37/130\n",
      "311/311 [==============================] - 2s 6ms/step - loss: 9759.5186 - mean_absolute_error: 74.9829\n",
      "Epoch 38/130\n",
      "311/311 [==============================] - 2s 5ms/step - loss: 9342.8887 - mean_absolute_error: 72.0128\n",
      "Epoch 39/130\n",
      "311/311 [==============================] - 2s 5ms/step - loss: 8942.0781 - mean_absolute_error: 70.8247\n",
      "Epoch 40/130\n",
      "311/311 [==============================] - 2s 5ms/step - loss: 8746.1299 - mean_absolute_error: 69.5955\n",
      "Epoch 41/130\n",
      "311/311 [==============================] - 2s 5ms/step - loss: 8332.9766 - mean_absolute_error: 67.4055\n",
      "Epoch 42/130\n",
      "311/311 [==============================] - 2s 5ms/step - loss: 8082.1680 - mean_absolute_error: 65.9562\n",
      "Epoch 43/130\n",
      "311/311 [==============================] - 2s 5ms/step - loss: 7877.2456 - mean_absolute_error: 64.5706\n",
      "Epoch 44/130\n",
      "311/311 [==============================] - 2s 5ms/step - loss: 7405.3223 - mean_absolute_error: 62.6790\n",
      "Epoch 45/130\n",
      "311/311 [==============================] - 2s 5ms/step - loss: 7163.4375 - mean_absolute_error: 60.9889\n",
      "Epoch 46/130\n",
      "311/311 [==============================] - 2s 5ms/step - loss: 7085.3193 - mean_absolute_error: 60.6477\n",
      "Epoch 47/130\n",
      "311/311 [==============================] - 2s 5ms/step - loss: 7107.9375 - mean_absolute_error: 60.0198\n",
      "Epoch 48/130\n",
      "311/311 [==============================] - 2s 5ms/step - loss: 6849.8833 - mean_absolute_error: 58.9938\n",
      "Epoch 49/130\n",
      "311/311 [==============================] - 2s 5ms/step - loss: 6751.8560 - mean_absolute_error: 58.4905\n",
      "Epoch 50/130\n",
      "311/311 [==============================] - 2s 5ms/step - loss: 6580.7334 - mean_absolute_error: 57.6853\n",
      "Epoch 51/130\n",
      "311/311 [==============================] - 2s 5ms/step - loss: 6557.0176 - mean_absolute_error: 57.4790\n",
      "Epoch 52/130\n",
      "311/311 [==============================] - 2s 5ms/step - loss: 6536.8379 - mean_absolute_error: 56.8379\n",
      "Epoch 53/130\n",
      "311/311 [==============================] - 2s 5ms/step - loss: 6219.8833 - mean_absolute_error: 55.2484\n",
      "Epoch 54/130\n",
      "311/311 [==============================] - 2s 5ms/step - loss: 6343.9102 - mean_absolute_error: 55.8013\n",
      "Epoch 55/130\n",
      "311/311 [==============================] - 2s 5ms/step - loss: 6462.7197 - mean_absolute_error: 56.8809\n",
      "Epoch 56/130\n",
      "311/311 [==============================] - 2s 6ms/step - loss: 6378.2007 - mean_absolute_error: 56.1948\n",
      "Epoch 57/130\n",
      "311/311 [==============================] - 2s 5ms/step - loss: 6279.8555 - mean_absolute_error: 55.8735\n",
      "Epoch 58/130\n",
      "311/311 [==============================] - 2s 5ms/step - loss: 6373.5186 - mean_absolute_error: 56.0206\n",
      "Epoch 59/130\n",
      "311/311 [==============================] - 2s 5ms/step - loss: 6265.4575 - mean_absolute_error: 55.3505\n",
      "Epoch 60/130\n",
      "311/311 [==============================] - 2s 5ms/step - loss: 6093.0986 - mean_absolute_error: 54.9761\n",
      "Epoch 61/130\n",
      "311/311 [==============================] - 2s 5ms/step - loss: 6144.0415 - mean_absolute_error: 54.8536\n",
      "Epoch 62/130\n",
      "311/311 [==============================] - 2s 5ms/step - loss: 6296.8633 - mean_absolute_error: 55.2542\n",
      "Epoch 63/130\n",
      "311/311 [==============================] - 2s 5ms/step - loss: 6265.2334 - mean_absolute_error: 55.4133\n",
      "Epoch 64/130\n",
      "311/311 [==============================] - 2s 5ms/step - loss: 6129.3950 - mean_absolute_error: 54.5915\n",
      "Epoch 65/130\n",
      "311/311 [==============================] - 2s 5ms/step - loss: 6310.7197 - mean_absolute_error: 55.8047\n",
      "Epoch 66/130\n",
      "311/311 [==============================] - 2s 6ms/step - loss: 6089.9927 - mean_absolute_error: 54.5258\n",
      "Epoch 67/130\n",
      "311/311 [==============================] - 2s 6ms/step - loss: 6253.3125 - mean_absolute_error: 55.2847\n",
      "Epoch 68/130\n",
      "311/311 [==============================] - 2s 6ms/step - loss: 6055.7402 - mean_absolute_error: 53.9679\n",
      "Epoch 69/130\n",
      "311/311 [==============================] - 2s 6ms/step - loss: 6183.2310 - mean_absolute_error: 54.9306\n",
      "Epoch 70/130\n",
      "311/311 [==============================] - 2s 6ms/step - loss: 6157.4155 - mean_absolute_error: 54.5611\n",
      "Epoch 71/130\n",
      "311/311 [==============================] - 2s 6ms/step - loss: 6206.4731 - mean_absolute_error: 54.9148\n",
      "Epoch 72/130\n",
      "311/311 [==============================] - 2s 5ms/step - loss: 6259.0703 - mean_absolute_error: 54.8881\n",
      "Epoch 73/130\n",
      "311/311 [==============================] - 2s 5ms/step - loss: 6116.8022 - mean_absolute_error: 54.4123\n",
      "Epoch 74/130\n",
      "311/311 [==============================] - 2s 5ms/step - loss: 6063.2188 - mean_absolute_error: 54.0073\n",
      "Epoch 75/130\n",
      "311/311 [==============================] - 2s 6ms/step - loss: 6030.8447 - mean_absolute_error: 53.7702\n",
      "Epoch 76/130\n",
      "311/311 [==============================] - 2s 5ms/step - loss: 6148.6055 - mean_absolute_error: 53.9494\n",
      "Epoch 77/130\n",
      "311/311 [==============================] - 2s 6ms/step - loss: 5931.0049 - mean_absolute_error: 52.9896\n",
      "Epoch 78/130\n",
      "311/311 [==============================] - 2s 6ms/step - loss: 6110.1948 - mean_absolute_error: 53.8265\n",
      "Epoch 79/130\n",
      "311/311 [==============================] - 2s 5ms/step - loss: 5853.9517 - mean_absolute_error: 52.7544\n",
      "Epoch 80/130\n",
      "311/311 [==============================] - 2s 5ms/step - loss: 5888.9434 - mean_absolute_error: 52.5865\n",
      "Epoch 81/130\n",
      "311/311 [==============================] - 2s 5ms/step - loss: 5964.4131 - mean_absolute_error: 53.3069\n",
      "Epoch 82/130\n",
      "311/311 [==============================] - 2s 5ms/step - loss: 5939.3960 - mean_absolute_error: 52.7466\n",
      "Epoch 83/130\n",
      "311/311 [==============================] - 2s 6ms/step - loss: 5922.6094 - mean_absolute_error: 53.2946\n",
      "Epoch 84/130\n",
      "311/311 [==============================] - 2s 6ms/step - loss: 5930.9155 - mean_absolute_error: 53.1870\n",
      "Epoch 85/130\n",
      "311/311 [==============================] - 2s 5ms/step - loss: 5775.0981 - mean_absolute_error: 52.3165\n",
      "Epoch 86/130\n",
      "311/311 [==============================] - 2s 5ms/step - loss: 5741.0718 - mean_absolute_error: 51.6787\n",
      "Epoch 87/130\n",
      "311/311 [==============================] - 2s 5ms/step - loss: 5793.3027 - mean_absolute_error: 52.3900\n",
      "Epoch 88/130\n",
      "311/311 [==============================] - 2s 5ms/step - loss: 5700.2993 - mean_absolute_error: 51.5801\n",
      "Epoch 89/130\n",
      "311/311 [==============================] - 2s 5ms/step - loss: 5560.3315 - mean_absolute_error: 50.8072\n",
      "Epoch 90/130\n",
      "311/311 [==============================] - 2s 5ms/step - loss: 5476.5278 - mean_absolute_error: 50.0734\n",
      "Epoch 91/130\n",
      "311/311 [==============================] - 2s 5ms/step - loss: 5257.9370 - mean_absolute_error: 49.2163\n",
      "Epoch 92/130\n",
      "311/311 [==============================] - 2s 6ms/step - loss: 5330.1538 - mean_absolute_error: 49.3663\n",
      "Epoch 93/130\n",
      "311/311 [==============================] - 2s 6ms/step - loss: 5338.7822 - mean_absolute_error: 49.5646\n",
      "Epoch 94/130\n",
      "311/311 [==============================] - 2s 6ms/step - loss: 4909.3091 - mean_absolute_error: 47.1191\n",
      "Epoch 95/130\n",
      "311/311 [==============================] - 2s 6ms/step - loss: 5069.3530 - mean_absolute_error: 47.5629\n",
      "Epoch 96/130\n",
      "311/311 [==============================] - 2s 6ms/step - loss: 4780.5923 - mean_absolute_error: 46.1162\n",
      "Epoch 97/130\n",
      "311/311 [==============================] - 2s 6ms/step - loss: 4256.3403 - mean_absolute_error: 43.5770\n",
      "Epoch 98/130\n",
      "311/311 [==============================] - 2s 6ms/step - loss: 4394.5225 - mean_absolute_error: 44.0609\n",
      "Epoch 99/130\n",
      "311/311 [==============================] - 2s 6ms/step - loss: 4340.7412 - mean_absolute_error: 44.0332\n",
      "Epoch 100/130\n",
      "311/311 [==============================] - 2s 5ms/step - loss: 4394.8452 - mean_absolute_error: 44.1763\n",
      "Epoch 101/130\n",
      "311/311 [==============================] - 2s 6ms/step - loss: 4156.8242 - mean_absolute_error: 43.1904\n",
      "Epoch 102/130\n",
      "311/311 [==============================] - 2s 6ms/step - loss: 3861.8872 - mean_absolute_error: 41.7334\n",
      "Epoch 103/130\n",
      "311/311 [==============================] - 2s 5ms/step - loss: 3601.3352 - mean_absolute_error: 40.3840\n",
      "Epoch 104/130\n",
      "311/311 [==============================] - 2s 5ms/step - loss: 3410.8484 - mean_absolute_error: 39.3418\n",
      "Epoch 105/130\n",
      "311/311 [==============================] - 2s 6ms/step - loss: 3541.0583 - mean_absolute_error: 39.8409\n",
      "Epoch 106/130\n",
      "311/311 [==============================] - 2s 6ms/step - loss: 3918.8467 - mean_absolute_error: 41.6670\n",
      "Epoch 107/130\n",
      "311/311 [==============================] - 2s 5ms/step - loss: 3549.2205 - mean_absolute_error: 40.0596\n",
      "Epoch 108/130\n",
      "311/311 [==============================] - 2s 5ms/step - loss: 3513.2812 - mean_absolute_error: 39.8729\n",
      "Epoch 109/130\n",
      "311/311 [==============================] - 2s 5ms/step - loss: 3211.2510 - mean_absolute_error: 38.3722\n",
      "Epoch 110/130\n",
      "311/311 [==============================] - 2s 6ms/step - loss: 3936.2134 - mean_absolute_error: 41.7515\n",
      "Epoch 111/130\n",
      "311/311 [==============================] - 2s 5ms/step - loss: 3627.6301 - mean_absolute_error: 40.2215\n",
      "Epoch 112/130\n",
      "311/311 [==============================] - 2s 5ms/step - loss: 3625.5281 - mean_absolute_error: 39.8817\n",
      "Epoch 113/130\n",
      "311/311 [==============================] - 2s 5ms/step - loss: 3673.7100 - mean_absolute_error: 40.6054\n",
      "Epoch 114/130\n",
      "311/311 [==============================] - 2s 5ms/step - loss: 3142.9258 - mean_absolute_error: 37.8452\n",
      "Epoch 115/130\n",
      "311/311 [==============================] - 2s 5ms/step - loss: 3657.1709 - mean_absolute_error: 40.2137\n",
      "Epoch 116/130\n",
      "311/311 [==============================] - 2s 5ms/step - loss: 3320.9976 - mean_absolute_error: 38.7952\n",
      "Epoch 117/130\n",
      "311/311 [==============================] - 2s 5ms/step - loss: 3559.7183 - mean_absolute_error: 39.7400\n",
      "Epoch 118/130\n",
      "311/311 [==============================] - 2s 6ms/step - loss: 3297.5906 - mean_absolute_error: 38.3611\n",
      "Epoch 119/130\n",
      "311/311 [==============================] - 2s 5ms/step - loss: 3212.0061 - mean_absolute_error: 38.0879\n",
      "Epoch 120/130\n",
      "311/311 [==============================] - 2s 5ms/step - loss: 3301.8557 - mean_absolute_error: 38.1852\n",
      "Epoch 121/130\n",
      "311/311 [==============================] - 2s 6ms/step - loss: 3177.0007 - mean_absolute_error: 37.6749\n",
      "Epoch 122/130\n",
      "311/311 [==============================] - 2s 5ms/step - loss: 3134.5415 - mean_absolute_error: 37.4653\n",
      "Epoch 123/130\n",
      "311/311 [==============================] - 2s 5ms/step - loss: 3193.3174 - mean_absolute_error: 37.6077\n",
      "Epoch 124/130\n",
      "311/311 [==============================] - 2s 5ms/step - loss: 3386.2317 - mean_absolute_error: 38.6626\n",
      "Epoch 125/130\n",
      "311/311 [==============================] - 2s 5ms/step - loss: 3133.6096 - mean_absolute_error: 37.5503\n",
      "Epoch 126/130\n",
      "311/311 [==============================] - 2s 5ms/step - loss: 3242.9336 - mean_absolute_error: 37.9199\n",
      "Epoch 127/130\n",
      "311/311 [==============================] - 2s 5ms/step - loss: 3246.9944 - mean_absolute_error: 37.5424\n",
      "Epoch 128/130\n",
      "311/311 [==============================] - 2s 5ms/step - loss: 3375.8848 - mean_absolute_error: 38.3000\n",
      "Epoch 129/130\n",
      "311/311 [==============================] - 2s 6ms/step - loss: 3351.6104 - mean_absolute_error: 38.4613\n",
      "Epoch 130/130\n",
      "311/311 [==============================] - 2s 6ms/step - loss: 3052.9399 - mean_absolute_error: 37.1719\n"
     ]
    },
    {
     "data": {
      "text/plain": [
       "<keras.callbacks.History at 0x1e3a4c48a00>"
      ]
     },
     "execution_count": 8,
     "metadata": {},
     "output_type": "execute_result"
    }
   ],
   "source": [
    "model.fit(X_train, y_train, epochs=130)"
   ]
  },
  {
   "cell_type": "markdown",
   "id": "7a52cbe4-3498-4e56-8026-e0c4c14568b5",
   "metadata": {},
   "source": [
    "## Prediction - First example"
   ]
  },
  {
   "cell_type": "code",
   "execution_count": 9,
   "id": "2eaf56cb-8d42-4ead-8366-106742fa5269",
   "metadata": {},
   "outputs": [
    {
     "name": "stdout",
     "output_type": "stream",
     "text": [
      "[[606.8222]]\n"
     ]
    }
   ],
   "source": [
    "x_input = np.array([[1.06, 3911.74], [1.06, 3900.11], [1.05, 3821.55], [1.04, 3818.83], [1.05, 3785.38], [1.04, 3825.33]])\n",
    "x_input = x_input.reshape((1, n_steps, n_features))\n",
    "yhat = model.predict(x_input, verbose=0)\n",
    "print(yhat)"
   ]
  },
  {
   "cell_type": "markdown",
   "id": "65bedcf3-519d-4333-b932-f0f4dc6098f6",
   "metadata": {},
   "source": [
    "## Predictions - July"
   ]
  },
  {
   "cell_type": "code",
   "execution_count": 10,
   "id": "ce47aee3-d06d-43dd-88cc-0b6f6f5625b4",
   "metadata": {},
   "outputs": [
    {
     "name": "stdout",
     "output_type": "stream",
     "text": [
      "1/1 [==============================] - 0s 13ms/step\n"
     ]
    },
    {
     "data": {
      "text/plain": [
       "array([606.8052 , 606.79456, 606.7825 , 606.7648 , 606.7673 , 606.7692 ],\n",
       "      dtype=float32)"
      ]
     },
     "execution_count": 10,
     "metadata": {},
     "output_type": "execute_result"
    }
   ],
   "source": [
    "current_data = pd.read_csv('current_data_july.csv', usecols = ['price_eurusd', 'price_sp500']).values\n",
    "\n",
    "X_input_current_data = []\n",
    "\n",
    "for index in range(len(current_data)):\n",
    "    temp_array = []\n",
    "    if(index + n_steps <= len(current_data)):\n",
    "        for index2 in range(n_steps):\n",
    "            temp_array.append(current_data[index + index2].tolist())\n",
    "        X_input_current_data.append(temp_array)\n",
    "\n",
    "rows_count = len(X_input_current_data)\n",
    "X_input_current_data = np.array(X_input_current_data)\n",
    "X_input_current_data = X_input_current_data.reshape((rows_count, n_steps, n_features))\n",
    "predictions_current_data = model.predict(X_input_current_data).flatten()\n",
    "predictions_current_data"
   ]
  },
  {
   "cell_type": "markdown",
   "id": "c1905b8c-6bd3-48e0-b652-2094930ec041",
   "metadata": {},
   "source": [
    "## Predictions - X_train"
   ]
  },
  {
   "cell_type": "code",
   "execution_count": 11,
   "id": "b049be48-1f80-4017-8b5f-b21a843d2015",
   "metadata": {},
   "outputs": [
    {
     "name": "stdout",
     "output_type": "stream",
     "text": [
      "311/311 [==============================] - 1s 2ms/step\n"
     ]
    },
    {
     "data": {
      "image/png": "[encoded data removed]",
      "text/plain": [
       "<Figure size 432x288 with 1 Axes>"
      ]
     },
     "metadata": {
      "needs_background": "light"
     },
     "output_type": "display_data"
    }
   ],
   "source": [
    "import matplotlib.pyplot as plt\n",
    "\n",
    "train_predictions = model.predict(X_train).flatten()\n",
    "real_bid = original_dataset[\"bid\"]\n",
    "\n",
    "plt.plot(real_bid, color = \"black\", label=\"Real BID\")\n",
    "plt.plot(train_predictions, color=\"green\", label=\"Predicted BID\")\n",
    "plt.title(\"BID Prediction\")\n",
    "plt.xlabel(\"Time\")\n",
    "plt.ylabel(\"BID Prediction\")\n",
    "plt.legend()\n",
    "plt.show()"
   ]
  },
  {
   "cell_type": "code",
   "execution_count": null,
   "id": "a731debc-081f-4460-886a-9dcce3dfb000",
   "metadata": {},
   "outputs": [],
   "source": []
  }
 ],
 "metadata": {
  "kernelspec": {
   "display_name": "Python 3 (ipykernel)",
   "language": "python",
   "name": "python3"
  },
  "language_info": {
   "codemirror_mode": {
    "name": "ipython",
    "version": 3
   },
   "file_extension": ".py",
   "mimetype": "text/x-python",
   "name": "python",
   "nbconvert_exporter": "python",
   "pygments_lexer": "ipython3",
   "version": "3.9.7"
  }
 },
 "nbformat": 4,
 "nbformat_minor": 5
}
