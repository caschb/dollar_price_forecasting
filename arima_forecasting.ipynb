{
 "cells": [
  {
   "cell_type": "code",
   "execution_count": 1,
   "metadata": {},
   "outputs": [],
   "source": [
    "from pandas import read_csv, DataFrame\n",
    "from pandas.plotting import autocorrelation_plot\n",
    "from datetime import datetime\n",
    "from matplotlib import pyplot\n",
    "from statsmodels.tsa.arima.model import ARIMA\n",
    "from pmdarima import auto_arima\n",
    "def parser(x):\n",
    "    return datetime.strptime(x, '%m/%d/%Y')"
   ]
  },
  {
   "cell_type": "code",
   "execution_count": 2,
   "metadata": {},
   "outputs": [
    {
     "name": "stdout",
     "output_type": "stream",
     "text": [
      "Index(['price_eurusd', 'open_eurusd', 'high_eurusd', 'low_eurusd',\n",
      "       'change_eurusd', 'bid', 'price_sp500', 'open_sp500', 'high_sp500',\n",
      "       'low_sp500', 'change_sp500'],\n",
      "      dtype='object')\n"
     ]
    },
    {
     "data": {
      "text/plain": [
       "<AxesSubplot:title={'center':'Evolución del precio del dólar en colones'}, xlabel='date', ylabel='USD'>"
      ]
     },
     "execution_count": 2,
     "metadata": {},
     "output_type": "execute_result"
    },
    {
     "data": {
      "image/png": "[encoded data removed]",
      "text/plain": [
       "<Figure size 432x288 with 1 Axes>"
      ]
     },
     "metadata": {
      "needs_background": "light"
     },
     "output_type": "display_data"
    }
   ],
   "source": [
    "data = read_csv('../full_dataset.csv', header=0, parse_dates=[0], index_col=0, date_parser=parser).drop(['ask'], axis=1)\n",
    "print(data.columns)\n",
    "data['bid'].plot(ylabel='CRC', title=\"Evolución del precio del dólar en colones\")\n",
    "data['price_sp500'].plot(ylabel='USD', title=\"Evolución del precio del euro en dólares\")\n",
    "data['price_eurusd'].plot(ylabel='USD', title=\"Evolución del precio del dólar en colones\")\n",
    "# model = ARIMA(series, order=(5, 1, 0))\n",
    "# model_fit = model.fit()\n",
    "\n",
    "# print(model_fit.summary())\n",
    "\n",
    "# residuals = DataFrame(model_fit.resid)\n",
    "# residuals.plot()\n",
    "# pyplot.show()\n",
    "\n",
    "# residuals.plot(kind='kde')\n",
    "# pyplot.show()\n",
    "\n",
    "# print(residuals.describe())"
   ]
  },
  {
   "cell_type": "code",
   "execution_count": 30,
   "metadata": {},
   "outputs": [
    {
     "name": "stdout",
     "output_type": "stream",
     "text": [
      "Performing stepwise search to minimize aic\n",
      " ARIMA(0,1,0)(1,0,1)[12] intercept   : AIC=inf, Time=8.26 sec\n",
      " ARIMA(0,1,0)(0,0,0)[12] intercept   : AIC=28387.194, Time=0.20 sec\n",
      " ARIMA(1,1,0)(1,0,0)[12] intercept   : AIC=27320.226, Time=1.71 sec\n",
      " ARIMA(0,1,1)(0,0,1)[12] intercept   : AIC=27279.915, Time=2.36 sec\n",
      " ARIMA(0,1,0)(0,0,0)[12]             : AIC=28426.654, Time=0.17 sec\n",
      " ARIMA(0,1,1)(0,0,0)[12] intercept   : AIC=27279.166, Time=0.88 sec\n",
      " ARIMA(0,1,1)(1,0,0)[12] intercept   : AIC=27279.882, Time=2.09 sec\n",
      " ARIMA(0,1,1)(1,0,1)[12] intercept   : AIC=inf, Time=10.92 sec\n",
      " ARIMA(1,1,1)(0,0,0)[12] intercept   : AIC=27264.175, Time=2.52 sec\n",
      " ARIMA(1,1,1)(1,0,0)[12] intercept   : AIC=27264.862, Time=3.45 sec\n",
      " ARIMA(1,1,1)(0,0,1)[12] intercept   : AIC=27264.895, Time=4.18 sec\n",
      " ARIMA(1,1,1)(1,0,1)[12] intercept   : AIC=inf, Time=20.77 sec\n",
      " ARIMA(1,1,0)(0,0,0)[12] intercept   : AIC=27320.021, Time=0.81 sec\n",
      " ARIMA(2,1,1)(0,0,0)[12] intercept   : AIC=27197.047, Time=3.41 sec\n",
      " ARIMA(2,1,1)(1,0,0)[12] intercept   : AIC=27197.534, Time=7.65 sec\n",
      " ARIMA(2,1,1)(0,0,1)[12] intercept   : AIC=27197.587, Time=6.75 sec\n",
      " ARIMA(2,1,1)(1,0,1)[12] intercept   : AIC=inf, Time=19.75 sec\n",
      " ARIMA(2,1,0)(0,0,0)[12] intercept   : AIC=27254.363, Time=0.93 sec\n",
      " ARIMA(3,1,1)(0,0,0)[12] intercept   : AIC=27198.418, Time=5.89 sec\n",
      " ARIMA(2,1,2)(0,0,0)[12] intercept   : AIC=27198.238, Time=5.43 sec\n",
      " ARIMA(1,1,2)(0,0,0)[12] intercept   : AIC=27265.211, Time=6.74 sec\n",
      " ARIMA(3,1,0)(0,0,0)[12] intercept   : AIC=27244.392, Time=1.04 sec\n",
      " ARIMA(3,1,2)(0,0,0)[12] intercept   : AIC=27195.022, Time=7.74 sec\n",
      " ARIMA(3,1,2)(1,0,0)[12] intercept   : AIC=27195.062, Time=16.03 sec\n",
      " ARIMA(3,1,2)(0,0,1)[12] intercept   : AIC=27195.129, Time=14.97 sec\n",
      " ARIMA(3,1,2)(1,0,1)[12] intercept   : AIC=27182.422, Time=25.08 sec\n",
      " ARIMA(3,1,2)(2,0,1)[12] intercept   : AIC=inf, Time=60.39 sec\n",
      " ARIMA(3,1,2)(1,0,2)[12] intercept   : AIC=inf, Time=60.56 sec\n",
      " ARIMA(3,1,2)(0,0,2)[12] intercept   : AIC=27194.325, Time=45.10 sec\n",
      " ARIMA(3,1,2)(2,0,0)[12] intercept   : AIC=27193.930, Time=43.29 sec\n",
      " ARIMA(3,1,2)(2,0,2)[12] intercept   : AIC=inf, Time=68.78 sec\n",
      " ARIMA(2,1,2)(1,0,1)[12] intercept   : AIC=inf, Time=26.27 sec\n",
      " ARIMA(3,1,1)(1,0,1)[12] intercept   : AIC=inf, Time=27.49 sec\n",
      " ARIMA(4,1,2)(1,0,1)[12] intercept   : AIC=inf, Time=39.03 sec\n",
      " ARIMA(3,1,3)(1,0,1)[12] intercept   : AIC=inf, Time=38.58 sec\n",
      " ARIMA(2,1,3)(1,0,1)[12] intercept   : AIC=27186.964, Time=31.17 sec\n",
      " ARIMA(4,1,1)(1,0,1)[12] intercept   : AIC=inf, Time=32.57 sec\n",
      " ARIMA(4,1,3)(1,0,1)[12] intercept   : AIC=27114.638, Time=42.69 sec\n",
      " ARIMA(4,1,3)(0,0,1)[12] intercept   : AIC=27118.331, Time=40.54 sec\n",
      " ARIMA(4,1,3)(1,0,0)[12] intercept   : AIC=27116.828, Time=36.23 sec\n",
      " ARIMA(4,1,3)(2,0,1)[12] intercept   : AIC=27111.137, Time=85.20 sec\n",
      " ARIMA(4,1,3)(2,0,0)[12] intercept   : AIC=27117.990, Time=81.41 sec\n",
      " ARIMA(4,1,3)(2,0,2)[12] intercept   : AIC=inf, Time=99.67 sec\n",
      " ARIMA(4,1,3)(1,0,2)[12] intercept   : AIC=27113.751, Time=80.01 sec\n",
      " ARIMA(3,1,3)(2,0,1)[12] intercept   : AIC=inf, Time=60.21 sec\n",
      " ARIMA(4,1,2)(2,0,1)[12] intercept   : AIC=inf, Time=72.71 sec\n",
      " ARIMA(5,1,3)(2,0,1)[12] intercept   : AIC=27118.603, Time=100.17 sec\n",
      " ARIMA(4,1,4)(2,0,1)[12] intercept   : AIC=27111.207, Time=87.36 sec\n",
      " ARIMA(3,1,4)(2,0,1)[12] intercept   : AIC=27168.278, Time=61.55 sec\n",
      " ARIMA(5,1,2)(2,0,1)[12] intercept   : AIC=inf, Time=84.94 sec\n",
      " ARIMA(5,1,4)(2,0,1)[12] intercept   : AIC=27114.239, Time=89.78 sec\n",
      " ARIMA(4,1,3)(2,0,1)[12]             : AIC=27136.840, Time=24.71 sec\n",
      "\n",
      "Best model:  ARIMA(4,1,3)(2,0,1)[12] intercept\n",
      "Total fit time: 1700.306 seconds\n"
     ]
    }
   ],
   "source": [
    "model = auto_arima(data['bid'], m=12, seasonal=True, start_p=0, start_q=0, max_order=4, test='adf', stepwise=True, trace=True)"
   ]
  },
  {
   "cell_type": "code",
   "execution_count": 54,
   "metadata": {},
   "outputs": [],
   "source": [
    "# ARIMA(4,1,3)(2,0,1)[12] \n",
    "# train = data[(data.get_level_values(0) >= datetime.strptime('2005-05-15', \"%Y-%m-%d\")) and data.index.get_level_values(0) <= datetime.strptime('2017-04-30', \"%Y-%m-%d\")]\n",
    "# data > datetime.strptime('2005-05-15', \"%Y-%m-%d\")\n",
    "train = data['1983-01-04' : '2021-06-05']\n",
    "test = data['2021-06-06' : '2022-07-01']"
   ]
  },
  {
   "cell_type": "code",
   "execution_count": 57,
   "metadata": {},
   "outputs": [
    {
     "data": {
      "text/plain": [
       "ARIMA(order=(4, 1, 3), scoring_args={}, seasonal_order=(2, 0, 1, 12),\n",
       "      suppress_warnings=True)"
      ]
     },
     "execution_count": 57,
     "metadata": {},
     "output_type": "execute_result"
    }
   ],
   "source": [
    "model.fit(data['bid'])"
   ]
  },
  {
   "cell_type": "code",
   "execution_count": 63,
   "metadata": {},
   "outputs": [],
   "source": [
    "forecast = model.predict(n_periods=30, return_conf_int=True)"
   ]
  },
  {
   "cell_type": "code",
   "execution_count": 64,
   "metadata": {},
   "outputs": [
    {
     "data": {
      "text/plain": [
       "(array([694.43259052, 695.02010092, 695.32609769, 695.59537594,\n",
       "        695.68512171, 695.64897912, 695.64559791, 695.57931182,\n",
       "        695.658433  , 695.7554843 , 695.75937442, 695.9026711 ,\n",
       "        695.98784692, 696.23236491, 696.47402656, 696.59745369,\n",
       "        696.74281746, 696.74927438, 696.74482462, 696.79711377,\n",
       "        696.82493482, 696.94104314, 696.98620541, 697.05629914,\n",
       "        697.18935379, 697.33889625, 697.52364081, 697.65856307,\n",
       "        697.73066614, 697.7972801 ]),\n",
       " array([[692.57932225, 696.28585879],\n",
       "        [691.91938765, 698.12081418],\n",
       "        [691.3182491 , 699.33394627],\n",
       "        [690.87275611, 700.31799577],\n",
       "        [690.41167576, 700.95856766],\n",
       "        [689.92554766, 701.37241059],\n",
       "        [689.52597373, 701.76522208],\n",
       "        [689.12167061, 702.03695302],\n",
       "        [688.88340996, 702.43345604],\n",
       "        [688.68733499, 702.8236336 ],\n",
       "        [688.41952518, 703.09922365],\n",
       "        [688.2949755 , 703.5103667 ],\n",
       "        [688.11245616, 703.86323768],\n",
       "        [688.08865738, 704.37607245],\n",
       "        [688.06908951, 704.87896362],\n",
       "        [687.94566648, 705.24924089],\n",
       "        [687.8456692 , 705.63996572],\n",
       "        [687.61938713, 705.87916163],\n",
       "        [687.38775719, 706.10189204],\n",
       "        [687.21601643, 706.37821112],\n",
       "        [687.03028329, 706.61958636],\n",
       "        [686.93295153, 706.94913476],\n",
       "        [686.77157313, 707.20083768],\n",
       "        [686.64019806, 707.47240023],\n",
       "        [686.56313847, 707.8155691 ],\n",
       "        [686.50771846, 708.17007404],\n",
       "        [686.4881587 , 708.55912293],\n",
       "        [686.4231638 , 708.89396235],\n",
       "        [686.30150529, 709.15982699],\n",
       "        [686.17490336, 709.41965684]]))"
      ]
     },
     "execution_count": 64,
     "metadata": {},
     "output_type": "execute_result"
    }
   ],
   "source": [
    "forecast"
   ]
  }
 ],
 "metadata": {
  "kernelspec": {
   "display_name": "Python 3.10.4 ('agvd')",
   "language": "python",
   "name": "python3"
  },
  "language_info": {
   "codemirror_mode": {
    "name": "ipython",
    "version": 3
   },
   "file_extension": ".py",
   "mimetype": "text/x-python",
   "name": "python",
   "nbconvert_exporter": "python",
   "pygments_lexer": "ipython3",
   "version": "3.10.4"
  },
  "orig_nbformat": 4,
  "vscode": {
   "interpreter": {
    "hash": "0bb37746239d8ebb096d3acf47391b08081c90e441f7ef836f2f55dd29d50b45"
   }
  }
 },
 "nbformat": 4,
 "nbformat_minor": 2
}
